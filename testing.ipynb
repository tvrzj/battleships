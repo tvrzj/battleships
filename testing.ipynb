{
 "cells": [
  {
   "cell_type": "code",
   "execution_count": 331,
   "metadata": {},
   "outputs": [],
   "source": [
    "import random\n",
    "\n",
    "cols = ['a', 'b', 'c', 'd', 'e', 'f', 'g', 'h', 'i', 'j']\n",
    "rows = range(1, 11)\n",
    "used = []"
   ]
  },
  {
   "cell_type": "code",
   "execution_count": 395,
   "metadata": {},
   "outputs": [],
   "source": [
    "#append a field not selected by an algorithm\n",
    "used.append(input('Which field you played outside of algorithm?'))"
   ]
  },
  {
   "cell_type": "code",
   "execution_count": 398,
   "metadata": {},
   "outputs": [
    {
     "name": "stdout",
     "output_type": "stream",
     "text": [
      "a10\n"
     ]
    }
   ],
   "source": [
    "#generate a field to be played\n",
    "def main():\n",
    "    a = (str(random.choice(cols)) + str(random.choice(rows)))\n",
    "    if a not in used:\n",
    "        used.append(a)\n",
    "        print(a)\n",
    "    elif len(used) == 100:\n",
    "        print('You ran out of options.')\n",
    "    else:\n",
    "        main()\n",
    "        \n",
    "\n",
    "main()"
   ]
  },
  {
   "cell_type": "code",
   "execution_count": 342,
   "metadata": {},
   "outputs": [],
   "source": [
    "#restart the game\n",
    "used = []"
   ]
  }
 ],
 "metadata": {
  "kernelspec": {
   "display_name": ".env",
   "language": "python",
   "name": "python3"
  },
  "language_info": {
   "codemirror_mode": {
    "name": "ipython",
    "version": 3
   },
   "file_extension": ".py",
   "mimetype": "text/x-python",
   "name": "python",
   "nbconvert_exporter": "python",
   "pygments_lexer": "ipython3",
   "version": "3.12.4"
  }
 },
 "nbformat": 4,
 "nbformat_minor": 2
}
